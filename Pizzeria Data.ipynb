{
    "cells": [
        {
            "cell_type": "markdown",
            "metadata": {
                "collapsed": true
            },
            "source": "### Data Description"
        },
        {
            "cell_type": "markdown",
            "metadata": {},
            "source": "In this project we will use a list of neighborhoods within the Austin area (via Wikipedia) to understand the general layout of the city. From there we will use a Geocoder package to find the geographical layout of the city and understand where populations of people are residing at. Finally the use of Foursquare will be used to find venue data for exsisting resturants in certain areas, we will find out if there are already exsisting italian or pizza resturants nearby that could compete with the location of the resturant. "
        },
        {
            "cell_type": "code",
            "execution_count": null,
            "metadata": {},
            "outputs": [],
            "source": ""
        }
    ],
    "metadata": {
        "kernelspec": {
            "display_name": "Python 3.6",
            "language": "python",
            "name": "python3"
        },
        "language_info": {
            "codemirror_mode": {
                "name": "ipython",
                "version": 3
            },
            "file_extension": ".py",
            "mimetype": "text/x-python",
            "name": "python",
            "nbconvert_exporter": "python",
            "pygments_lexer": "ipython3",
            "version": "3.6.9"
        }
    },
    "nbformat": 4,
    "nbformat_minor": 1
}