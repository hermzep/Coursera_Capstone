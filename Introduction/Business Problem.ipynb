{
    "cells": [
        {
            "cell_type": "markdown",
            "metadata": {
                "collapsed": true
            },
            "source": "## Introduction / Businesss Problem"
        },
        {
            "cell_type": "markdown",
            "metadata": {},
            "source": "### Introduction\nIn Austin, Texas there is a ever expanding demand for new resturants as new tech companies roll in and residents demands new food options. As one of the fastest growing cities in the United States there is no doubt a market for a new restutant despite the already established food industry. Every famous chain from Texas usually has some start in Austin, from Plucker's Wings, to Torchys Tacos, and even Chuy's had their start in the Lone Star's Capital. This is why any new resturant looking to get a hot start should start there get raving reviews from the hordes of foodies that explore the city in search of new food spots. One of the weakest points for food in Texas however, is its Pizza scene with few truly amazing pizza places to choose from. This is where we must capitalize on the markets lack of exposure to Pizza before anyone else does to claim the spot as the top Pizza resuturant in Texas"
        },
        {
            "cell_type": "markdown",
            "metadata": {},
            "source": "### Business Problem\nLocation, location, location. As much as people have begun to drive more because of COVID-19 the location is vital for success. The new resturant must not be too far from the food scene to be a burden for customers but it can't be washed away buy competeing resurtants nearby if there is too much competition. To find the prefect balance there must be a balance in the amount of neighboring resturants that will surround the potential location for this game changing resturant. The best way to figure that out is to see how many amenities there are nearby to attract local and visiting austinites. From there we can see how many resturants are in the surrounding area to be able to choose an exact spot for the new Pizzaria.  "
        },
        {
            "cell_type": "code",
            "execution_count": null,
            "metadata": {},
            "outputs": [],
            "source": ""
        }
    ],
    "metadata": {
        "kernelspec": {
            "display_name": "Python 3.6",
            "language": "python",
            "name": "python3"
        },
        "language_info": {
            "codemirror_mode": {
                "name": "ipython",
                "version": 3
            },
            "file_extension": ".py",
            "mimetype": "text/x-python",
            "name": "python",
            "nbconvert_exporter": "python",
            "pygments_lexer": "ipython3",
            "version": "3.6.9"
        }
    },
    "nbformat": 4,
    "nbformat_minor": 1
}